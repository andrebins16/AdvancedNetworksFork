{
 "cells": [
  {
   "cell_type": "markdown",
   "metadata": {},
   "source": [
    "# IPv4 Addressing\n",
    "\n",
    "- 32 bits = 4 bytes\n",
    "- address space = 2^32 addresses\n",
    "- dotted decimal notation: A.B.C.D\n",
    "    - A, B, C and D between 0 and 255\n"
   ]
  },
  {
   "cell_type": "code",
   "execution_count": 4,
   "metadata": {},
   "outputs": [
    {
     "data": {
      "text/plain": [
       "False"
      ]
     },
     "execution_count": 4,
     "metadata": {},
     "output_type": "execute_result"
    }
   ],
   "source": [
    "# Check if the given string is a valid IPv4 address\n",
    "def is_valid(ip):\n",
    "    ip = ip.split('.')\n",
    "    if len(ip) != 4:\n",
    "        return False\n",
    "    for i in ip:\n",
    "        if not i.isdigit() or not 0 <= int(i) <= 255:\n",
    "            return False\n",
    "    return True\n",
    "\n",
    "is_valid('10.20.300.40')"
   ]
  },
  {
   "cell_type": "code",
   "execution_count": 48,
   "metadata": {},
   "outputs": [
    {
     "data": {
      "text/plain": [
       "'01111111 00000000 00000000 00000001'"
      ]
     },
     "execution_count": 48,
     "metadata": {},
     "output_type": "execute_result"
    }
   ],
   "source": [
    "# Convert an IPv4 address to binary\n",
    "def to_binary(ip, sep=''):\n",
    "    ip = ip.split('.')\n",
    "    return sep.join([bin(int(i))[2:].zfill(8) for i in ip])\n",
    "\n",
    "to_binary('127.0.0.1', ' ')"
   ]
  },
  {
   "cell_type": "code",
   "execution_count": 6,
   "metadata": {},
   "outputs": [
    {
     "data": {
      "text/plain": [
       "'127.0.0.1'"
      ]
     },
     "execution_count": 6,
     "metadata": {},
     "output_type": "execute_result"
    }
   ],
   "source": [
    "# Convert a binary IP address to decimal\n",
    "def to_decimal(ip):\n",
    "    # remove spaces from ip\n",
    "    ip = ip.replace(' ', '')\n",
    "    # split ip in 4 parts\n",
    "    ip = [ip[i:i+8] for i in range(0, len(ip), 8)]\n",
    "    # convert each part to decimal and join them with '.'\n",
    "    return '.'.join([str(int(i, 2)) for i in ip])\n",
    "\n",
    "to_decimal('01111111 00000000 00000000 00000001')"
   ]
  },
  {
   "cell_type": "markdown",
   "metadata": {},
   "source": [
    "# IPv4 Classes\n",
    "\n",
    "| Class            | Binary Prefix | Address Range               | Default Subnet Mask | Networks           | Hosts                 |\n",
    "|------------------|---------------|-----------------------------|---------------------|--------------------|-----------------------|\n",
    "| A                | 0             | 1.0.0.0 - 127.255.255.255   | 255.0.0.0 (/8)      | 7 bits - 128 nets  | 24 bits - 16M hosts   |\n",
    "| B                | 10            | 128.0.0.0 - 191.255.255.255 | 255.255.0.0 (/16)   | 14 bits - 16k nets | 16 bits - 64k hosts   |\n",
    "| C                | 110           | 192.0.0.0 - 223.255.255.255 | 255.255.255.0 (/24) | 21 bits - 2M nets  | 8 bits - 256 hosts    |\n",
    "| D (multicast)    | 1110          | 224.0.0.0 - 239.255.255.255 | Not applicable      | Not applicable     | 256M multicast groups |\n",
    "| E (experimental) | 1111          | 240.0.0.0 - 255.255.255.254 | Not applicable      | Not applicable     | Not applicable        |"
   ]
  },
  {
   "cell_type": "code",
   "execution_count": 7,
   "metadata": {},
   "outputs": [
    {
     "data": {
      "text/plain": [
       "'C'"
      ]
     },
     "execution_count": 7,
     "metadata": {},
     "output_type": "execute_result"
    }
   ],
   "source": [
    "# Return IPv4 class\n",
    "def get_ip_class(ip):\n",
    "    ip = ip.split('.')\n",
    "    if 1 <= int(ip[0]) <= 127:\n",
    "        return 'A'\n",
    "    elif 128 <= int(ip[0]) <= 191:\n",
    "        return 'B'\n",
    "    elif 192 <= int(ip[0]) <= 223:\n",
    "        return 'C'\n",
    "    elif 224 <= int(ip[0]) <= 239:\n",
    "        return 'D'\n",
    "    elif 240 <= int(ip[0]) <= 255:\n",
    "        return 'E'\n",
    "    \n",
    "get_ip_class('200.10.20.5')"
   ]
  },
  {
   "cell_type": "markdown",
   "metadata": {},
   "source": [
    "# Classless addressing (CIDR - Classless Inter-Domain Routing)\n",
    "\n",
    "- IP addresses are allocated more efficiently according to actual need\n",
    "- VLSM (Variable-Length Subnet Masking) - subnet mask can be of any length\n",
    "- notation - IP followed by a slash (\"/\") and a number indicating the number of bits in the network prefix (ex. 192.168.1.0/24)\n",
    "- simplifies routing - routes can be aggregated into a single routing table entry"
   ]
  },
  {
   "cell_type": "code",
   "execution_count": 22,
   "metadata": {},
   "outputs": [
    {
     "data": {
      "text/plain": [
       "'255.0.0.0 11111111 00000000 00000000 00000000'"
      ]
     },
     "execution_count": 22,
     "metadata": {},
     "output_type": "execute_result"
    }
   ],
   "source": [
    "# Convert CIDR notation to IPv4 address\n",
    "def cidr_to_ip(cidr):\n",
    "    ip, mask = cidr.split('/')\n",
    "    ip = ip.split('.')\n",
    "    mask = int(mask)\n",
    "    mask = '1' * mask + '0' * (32 - mask)\n",
    "    mask = [mask[i:i+8] for i in range(0, 32, 8)]\n",
    "    mask = [str(int(i, 2)) for i in mask]\n",
    "    result = '.'.join(ip) + ' ' + '.'.join(mask)\n",
    "    return result.strip()\n",
    "\n",
    "ip = cidr_to_ip('/8')\n",
    "ip + ' ' + to_binary(ip)"
   ]
  },
  {
   "cell_type": "code",
   "execution_count": 24,
   "metadata": {},
   "outputs": [
    {
     "data": {
      "text/plain": [
       "16777216"
      ]
     },
     "execution_count": 24,
     "metadata": {},
     "output_type": "execute_result"
    }
   ],
   "source": [
    "# Return number of addresses in a subnet given the CIDR notation\n",
    "def get_num_addr(cidr):\n",
    "    return 2 ** (32 - int(cidr))\n",
    "\n",
    "get_num_addr(8)"
   ]
  },
  {
   "cell_type": "markdown",
   "metadata": {},
   "source": [
    "# Reserved address\n",
    "\n",
    "- cannot be assigned to any host\n",
    "\n",
    "- network address - represents the entire subnet\n",
    "    - network_address = IP address AND subnet mask\n",
    "    - all host bits with 0\n",
    "- broadcast address - used to send data to all devices on the network\n",
    "    - broadcast_address = IP address OR INVERT(subnet mask)\n",
    "    - all host bits with 1"
   ]
  },
  {
   "cell_type": "code",
   "execution_count": 29,
   "metadata": {},
   "outputs": [
    {
     "data": {
      "text/plain": [
       "'192.168.0.0'"
      ]
     },
     "execution_count": 29,
     "metadata": {},
     "output_type": "execute_result"
    }
   ],
   "source": [
    "# Return network address\n",
    "def get_network_addr(ip_cidr):\n",
    "    ip, mask = ip_cidr.split('/')\n",
    "    ip = ip.split('.')\n",
    "    mask = int(mask)\n",
    "    mask = '1' * mask + '0' * (32 - mask)\n",
    "    mask = [mask[i:i+8] for i in range(0, 32, 8)]\n",
    "    mask = [str(int(i, 2)) for i in mask]\n",
    "    network = [str(int(ip[i]) & int(mask[i])) for i in range(4)]\n",
    "    return '.'.join(network)\n",
    "\n",
    "get_network_addr('192.168.10.5/16')"
   ]
  },
  {
   "cell_type": "code",
   "execution_count": 30,
   "metadata": {},
   "outputs": [
    {
     "data": {
      "text/plain": [
       "'192.168.255.255'"
      ]
     },
     "execution_count": 30,
     "metadata": {},
     "output_type": "execute_result"
    }
   ],
   "source": [
    "# Return broadcast address\n",
    "def get_broadcast_addr(ip_cidr):\n",
    "    ip, mask = ip_cidr.split('/')\n",
    "    ip = ip.split('.')\n",
    "    mask = int(mask)\n",
    "    mask = '1' * mask + '0' * (32 - mask)\n",
    "    mask = [mask[i:i+8] for i in range(0, 32, 8)]\n",
    "    mask = [str(int(i, 2)) for i in mask]\n",
    "    broadcast = [str(int(ip[i]) | (255 - int(mask[i]))) for i in range(4)]\n",
    "    return '.'.join(broadcast)\n",
    "\n",
    "get_broadcast_addr('192.168.10.5/16')"
   ]
  },
  {
   "cell_type": "code",
   "execution_count": 31,
   "metadata": {},
   "outputs": [
    {
     "data": {
      "text/plain": [
       "('192.168.0.1', '192.168.255.254')"
      ]
     },
     "execution_count": 31,
     "metadata": {},
     "output_type": "execute_result"
    }
   ],
   "source": [
    "# Return first and last usable addresses in a subnet\n",
    "def get_first_last_addr(ip_cidr):\n",
    "    ip, mask = ip_cidr.split('/')\n",
    "    ip = ip.split('.')\n",
    "    mask = int(mask)\n",
    "    mask = '1' * mask + '0' * (32 - mask)\n",
    "    mask = [mask[i:i+8] for i in range(0, 32, 8)]\n",
    "    mask = [str(int(i, 2)) for i in mask]\n",
    "    network = [str(int(ip[i]) & int(mask[i])) for i in range(4)]\n",
    "    broadcast = [str(int(ip[i]) | (255 - int(mask[i]))) for i in range(4)]\n",
    "    first = network.copy()\n",
    "    first[-1] = str(int(first[-1]) + 1)\n",
    "    last = broadcast.copy()\n",
    "    last[-1] = str(int(last[-1]) - 1)\n",
    "    return '.'.join(first), '.'.join(last)\n",
    "\n",
    "get_first_last_addr('192.168.10.5/16')"
   ]
  },
  {
   "cell_type": "markdown",
   "metadata": {},
   "source": [
    "# Subnets\n",
    "\n",
    "- breaks a large block of addresses allocated to an organization in smaller blocks\n",
    "- creation of subnets is visible only inside the organization network - the address keep the same for outside\n"
   ]
  },
  {
   "cell_type": "code",
   "execution_count": 61,
   "metadata": {},
   "outputs": [
    {
     "data": {
      "text/plain": [
       "['192.168.0.0/18', '192.168.64.0/18', '192.168.128.0/18', '192.168.192.0/18']"
      ]
     },
     "execution_count": 61,
     "metadata": {},
     "output_type": "execute_result"
    }
   ],
   "source": [
    "# Return the list of subnets given a network address and a number of subnets\n",
    "def get_subnets(network_addr, num_subnets):\n",
    "    ip, mask = network_addr.split('/')\n",
    "    mask = int(mask)\n",
    "    subnetbitslen = len(bin(num_subnets-1)[2:])\n",
    "    newmask = mask + subnetbitslen\n",
    "    subnets = []\n",
    "    for i in range(num_subnets):\n",
    "        binip = to_binary(ip)\n",
    "        newip = binip[:mask] + bin(i)[2:].zfill(subnetbitslen) + '0' * (32 - mask - subnetbitslen)\n",
    "        subnets.append(to_decimal(newip)+'/'+str(newmask))\n",
    "    return subnets\n",
    "\n",
    "get_subnets('192.168.0.0/16', 4)"
   ]
  },
  {
   "cell_type": "code",
   "execution_count": 69,
   "metadata": {},
   "outputs": [
    {
     "name": "stdout",
     "output_type": "stream",
     "text": [
      "65536\n",
      "\n",
      "192.168.0.0/18\n",
      "192.168.63.255\n",
      "16384\n",
      "('192.168.0.1', '192.168.63.254')\n",
      "\n",
      "192.168.64.0/18\n",
      "192.168.127.255\n",
      "16384\n",
      "('192.168.64.1', '192.168.127.254')\n",
      "\n",
      "192.168.128.0/18\n",
      "192.168.191.255\n",
      "16384\n",
      "('192.168.128.1', '192.168.191.254')\n",
      "\n",
      "192.168.192.0/18\n",
      "192.168.255.255\n",
      "16384\n",
      "('192.168.192.1', '192.168.255.254')\n",
      "\n"
     ]
    }
   ],
   "source": [
    "netaddr = '192.168.0.0/16'\n",
    "numsubets = 4\n",
    "\n",
    "print(get_num_addr(int(netaddr.split('/')[1])))\n",
    "print()\n",
    "\n",
    "for subnet in get_subnets(netaddr, numsubets):\n",
    "    print(subnet)\n",
    "    print(get_broadcast_addr(subnet))\n",
    "    print(get_num_addr(int(subnet.split('/')[1])))\n",
    "    print(get_first_last_addr(subnet))\n",
    "    print()"
   ]
  }
 ],
 "metadata": {
  "kernelspec": {
   "display_name": "base",
   "language": "python",
   "name": "python3"
  },
  "language_info": {
   "codemirror_mode": {
    "name": "ipython",
    "version": 3
   },
   "file_extension": ".py",
   "mimetype": "text/x-python",
   "name": "python",
   "nbconvert_exporter": "python",
   "pygments_lexer": "ipython3",
   "version": "3.11.5"
  }
 },
 "nbformat": 4,
 "nbformat_minor": 2
}
