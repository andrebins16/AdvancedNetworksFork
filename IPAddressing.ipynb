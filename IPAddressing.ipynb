{
 "cells": [
  {
   "cell_type": "markdown",
   "metadata": {},
   "source": [
    "# IPv4 Addressing\n",
    "\n",
    "- 32 bits = 4 bytes\n",
    "- address space = 2^32 addresses\n",
    "- dotted decimal notation: A.B.C.D\n",
    "    - A, B, C and D between 0 and 255\n"
   ]
  },
  {
   "cell_type": "code",
   "execution_count": 1,
   "metadata": {},
   "outputs": [],
   "source": [
    "# Check if the given string is a valid IPv4 address\n",
    "def is_valid(ip):\n",
    "    ip = ip.split('.')\n",
    "    if len(ip) != 4:\n",
    "        return False\n",
    "    for i in ip:\n",
    "        if not i.isdigit() or not 0 <= int(i) <= 255:\n",
    "            return False\n",
    "    return True"
   ]
  },
  {
   "cell_type": "code",
   "execution_count": 3,
   "metadata": {},
   "outputs": [
    {
     "name": "stdout",
     "output_type": "stream",
     "text": [
      "False\n"
     ]
    }
   ],
   "source": [
    "print(is_valid('10.20.300.40'))"
   ]
  },
  {
   "cell_type": "code",
   "execution_count": 3,
   "metadata": {},
   "outputs": [],
   "source": [
    "# Convert an IPv4 address to binary\n",
    "def to_binary(ip):\n",
    "    ip = ip.split('.')\n",
    "    return ' '.join([bin(int(i))[2:].zfill(8) for i in ip])"
   ]
  },
  {
   "cell_type": "code",
   "execution_count": 4,
   "metadata": {},
   "outputs": [
    {
     "name": "stdout",
     "output_type": "stream",
     "text": [
      "01111111 00000000 00000000 00000001\n"
     ]
    }
   ],
   "source": [
    "print(to_binary('127.0.0.1'))"
   ]
  },
  {
   "cell_type": "code",
   "execution_count": 7,
   "metadata": {},
   "outputs": [],
   "source": [
    "# Convert a binary IP address to decimal\n",
    "def to_decimal(ip):\n",
    "    ip = ip.split('.')\n",
    "    return '.'.join([str(int(i, 2)) for i in ip])"
   ]
  },
  {
   "cell_type": "code",
   "execution_count": 8,
   "metadata": {},
   "outputs": [
    {
     "name": "stdout",
     "output_type": "stream",
     "text": [
      "127.0.0.1\n"
     ]
    }
   ],
   "source": [
    "print(to_decimal('01111111.00000000.00000000.00000001'))"
   ]
  },
  {
   "cell_type": "markdown",
   "metadata": {},
   "source": [
    "# IPv4 Classes\n",
    "\n",
    "| Class            | Binary Prefix | Address Range               | Default Subnet Mask | Networks           | Hosts                 |\n",
    "|------------------|---------------|-----------------------------|---------------------|--------------------|-----------------------|\n",
    "| A                | 0             | 1.0.0.0 - 127.255.255.255   | 255.0.0.0 (/8)      | 7 bits - 128 nets  | 24 bits - 16M hosts   |\n",
    "| B                | 10            | 128.0.0.0 - 191.255.255.255 | 255.255.0.0 (/16)   | 14 bits - 16k nets | 16 bits - 64k hosts   |\n",
    "| C                | 110           | 192.0.0.0 - 223.255.255.255 | 255.255.255.0 (/24) | 21 bits - 2M nets  | 8 bits - 256 hosts    |\n",
    "| D (multicast)    | 1110          | 224.0.0.0 - 239.255.255.255 | Not applicable      | Not applicable     | 256M multicast groups |\n",
    "| E (experimental) | 1111          | 240.0.0.0 - 255.255.255.254 | Not applicable      | Not applicable     | Not applicable        |"
   ]
  },
  {
   "cell_type": "code",
   "execution_count": 9,
   "metadata": {},
   "outputs": [],
   "source": [
    "# Return IPv4 class\n",
    "def get_ip_class(ip):\n",
    "    ip = ip.split('.')\n",
    "    if 1 <= int(ip[0]) <= 127:\n",
    "        return 'A'\n",
    "    elif 128 <= int(ip[0]) <= 191:\n",
    "        return 'B'\n",
    "    elif 192 <= int(ip[0]) <= 223:\n",
    "        return 'C'\n",
    "    elif 224 <= int(ip[0]) <= 239:\n",
    "        return 'D'\n",
    "    elif 240 <= int(ip[0]) <= 255:\n",
    "        return 'E'"
   ]
  },
  {
   "cell_type": "code",
   "execution_count": 10,
   "metadata": {},
   "outputs": [
    {
     "name": "stdout",
     "output_type": "stream",
     "text": [
      "C\n"
     ]
    }
   ],
   "source": [
    "print(get_ip_class('200.10.20.5'))"
   ]
  },
  {
   "cell_type": "markdown",
   "metadata": {},
   "source": [
    "# Classless addressing (CIDR - Classless Inter-Domain Routing)\n",
    "\n",
    "- IP addresses are allocated more efficiently according to actual need\n",
    "- VLSM (Variable-Length Subnet Masking) - subnet mask can be of any length\n",
    "- notation - IP followed by a slash (\"/\") and a number indicating the number of bits in the network prefix (ex. 192.168.1.0/24)\n",
    "- simplifies routing - routes can be aggregated into a single routing table entry"
   ]
  },
  {
   "cell_type": "code",
   "execution_count": 17,
   "metadata": {},
   "outputs": [
    {
     "name": "stdout",
     "output_type": "stream",
     "text": [
      " 255.0.0.0 11111111 00000000 00000000 00000000\n"
     ]
    }
   ],
   "source": [
    "# Convert CIDR notation to IPv4 address\n",
    "def cidr_to_ip(cidr):\n",
    "    ip, mask = cidr.split('/')\n",
    "    ip = ip.split('.')\n",
    "    mask = int(mask)\n",
    "    mask = '1' * mask + '0' * (32 - mask)\n",
    "    mask = [mask[i:i+8] for i in range(0, 32, 8)]\n",
    "    mask = [str(int(i, 2)) for i in mask]\n",
    "    return '.'.join(ip) + ' ' + '.'.join(mask)\n",
    "\n",
    "# Example using the function\n",
    "ip = cidr_to_ip('/8')\n",
    "print(ip, to_binary(ip))"
   ]
  },
  {
   "cell_type": "code",
   "execution_count": 20,
   "metadata": {},
   "outputs": [
    {
     "name": "stdout",
     "output_type": "stream",
     "text": [
      "16777216\n"
     ]
    }
   ],
   "source": [
    "# Return number of addresses in a subnet given the CIDR notation\n",
    "def get_num_addr(cidr):\n",
    "    return 2 ** (32 - int(cidr))\n",
    "\n",
    "print(get_num_addr(8))"
   ]
  },
  {
   "cell_type": "markdown",
   "metadata": {},
   "source": [
    "# Reserved address\n",
    "\n",
    "- cannot be assigned to any host\n",
    "\n",
    "- network address - represents the entire subnet\n",
    "    - network_address = IP address AND subnet mask\n",
    "    - all host bits with 0\n",
    "- broadcast address - used to send data to all devices on the network\n",
    "    - broadcast_address = IP address OR INVERT(subnet mask)\n",
    "    - all host bits with 1"
   ]
  },
  {
   "cell_type": "code",
   "execution_count": 30,
   "metadata": {},
   "outputs": [
    {
     "name": "stdout",
     "output_type": "stream",
     "text": [
      "128.0.0.0\n"
     ]
    }
   ],
   "source": [
    "# Return network address\n",
    "def get_network_addr(ip_cidr):\n",
    "    ip, mask = ip_cidr.split('/')\n",
    "    ip = ip.split('.')\n",
    "    mask = int(mask)\n",
    "    mask = '1' * mask + '0' * (32 - mask)\n",
    "    mask = [mask[i:i+8] for i in range(0, 32, 8)]\n",
    "    mask = [str(int(i, 2)) for i in mask]\n",
    "    network = [str(int(ip[i]) & int(mask[i])) for i in range(4)]\n",
    "    return '.'.join(network)\n",
    "\n",
    "print(get_network_addr('255.255.255.255/1'))\n"
   ]
  },
  {
   "cell_type": "code",
   "execution_count": 31,
   "metadata": {},
   "outputs": [
    {
     "name": "stdout",
     "output_type": "stream",
     "text": [
      "192.168.255.255\n"
     ]
    }
   ],
   "source": [
    "# Return broadcast address\n",
    "def get_broadcast_addr(ip_cidr):\n",
    "    ip, mask = ip_cidr.split('/')\n",
    "    ip = ip.split('.')\n",
    "    mask = int(mask)\n",
    "    mask = '1' * mask + '0' * (32 - mask)\n",
    "    mask = [mask[i:i+8] for i in range(0, 32, 8)]\n",
    "    mask = [str(int(i, 2)) for i in mask]\n",
    "    broadcast = [str(int(ip[i]) | (255 - int(mask[i]))) for i in range(4)]\n",
    "    return '.'.join(broadcast)\n",
    "\n",
    "print(get_broadcast_addr('192.168.10.5/16'))"
   ]
  },
  {
   "cell_type": "code",
   "execution_count": 32,
   "metadata": {},
   "outputs": [
    {
     "name": "stdout",
     "output_type": "stream",
     "text": [
      "('192.168.0.1', '192.168.255.254')\n"
     ]
    }
   ],
   "source": [
    "# Return first and last usable addresses in a subnet\n",
    "def get_first_last_addr(ip_cidr):\n",
    "    ip, mask = ip_cidr.split('/')\n",
    "    ip = ip.split('.')\n",
    "    mask = int(mask)\n",
    "    mask = '1' * mask + '0' * (32 - mask)\n",
    "    mask = [mask[i:i+8] for i in range(0, 32, 8)]\n",
    "    mask = [str(int(i, 2)) for i in mask]\n",
    "    network = [str(int(ip[i]) & int(mask[i])) for i in range(4)]\n",
    "    broadcast = [str(int(ip[i]) | (255 - int(mask[i]))) for i in range(4)]\n",
    "    first = network.copy()\n",
    "    first[-1] = str(int(first[-1]) + 1)\n",
    "    last = broadcast.copy()\n",
    "    last[-1] = str(int(last[-1]) - 1)\n",
    "    return '.'.join(first), '.'.join(last)\n",
    "\n",
    "print(get_first_last_addr('192.168.10.5/16'))"
   ]
  },
  {
   "cell_type": "code",
   "execution_count": null,
   "metadata": {},
   "outputs": [],
   "source": []
  }
 ],
 "metadata": {
  "kernelspec": {
   "display_name": "base",
   "language": "python",
   "name": "python3"
  },
  "language_info": {
   "codemirror_mode": {
    "name": "ipython",
    "version": 3
   },
   "file_extension": ".py",
   "mimetype": "text/x-python",
   "name": "python",
   "nbconvert_exporter": "python",
   "pygments_lexer": "ipython3",
   "version": "3.11.5"
  }
 },
 "nbformat": 4,
 "nbformat_minor": 2
}
